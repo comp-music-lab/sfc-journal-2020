{
 "cells": [
  {
   "cell_type": "code",
   "execution_count": 45,
   "metadata": {},
   "outputs": [],
   "source": [
    "import numpy as np\n",
    "import pandas as pd\n",
    "import matplotlib.pyplot as plt\n",
    "import csv\n",
    "import json"
   ]
  },
  {
   "cell_type": "markdown",
   "metadata": {},
   "source": [
    "# Read Data"
   ]
  },
  {
   "cell_type": "code",
   "execution_count": 46,
   "metadata": {},
   "outputs": [],
   "source": [
    "metadata = pd.read_csv('./data/metadata.csv')\n",
    "all_india = metadata[metadata['Division']=='India']\n",
    "\n",
    "for i,row in all_india.iterrows():\n",
    "    all_india.loc[i, [\"Local_lat\"]] = float(row[\"Local_lat\"])\n",
    "    \n",
    "north_indian_states = {\n",
    "       'Chhattisgarh',\n",
    "       'Maharashtra', 'Malwa',\n",
    "       'Chota Nagpur Plateau',\n",
    "       'Bihar/ Uttar Pradesh', 'Uttar Pradesh', 'Varanasi, Uttar Pradesh',\n",
    "       'Rajasthan', 'Gujarat',\n",
    "       'Gujarat/ Madhya Pradesh/ Maharashtra/ Rajasthan'\n",
    "}\n",
    "\n",
    "north_india = pd.DataFrame()\n",
    "south_india = pd.DataFrame()\n",
    "\n",
    "for i,row in all_india.iterrows():\n",
    "    if row[\"Area/Kingdom\"] in north_indian_states:\n",
    "        north_india = north_india.append(all_india.loc[i])\n",
    "    else:\n",
    "        south_india = south_india.append(row)\n",
    "        \n",
    "north_india = north_india.rename(columns={'C-id':'canto_coding_id'})\n",
    "south_india = south_india.rename(columns={'C-id':'canto_coding_id'})\n",
    "\n",
    "north_india.to_csv('./data/north-india.csv')\n",
    "south_india.to_csv('./data/south-india.csv')"
   ]
  },
  {
   "cell_type": "code",
   "execution_count": 47,
   "metadata": {},
   "outputs": [],
   "source": [
    "classfication_metadata = pd.read_csv('./data/classification_metadata.csv',encoding='latin1')\n",
    "classfication_metadata[classfication_metadata['Culture']=='Dhurwa Gond']['Lang_Family'].values[0]\n",
    "language_map = {\n",
    "    'Dravidian, Central Dravidian':'Dravidian',\n",
    "    'Dravidian, South Dravidian, Gondi, Koya': 'Dravidian',\n",
    "    'Dravidian, South Dravidian, Gondi' :'Dravidian',\n",
    "    'Dravidian, South Dravidian': 'Dravidian',\n",
    "    'Dravidian, North Dravidian, Kurux-Malto, Kurux':'Dravidian',\n",
    "    'Indo-European, Indo-Iranian, Indo-Aryan, Western Hindi, Hindustani': 'Indo-European',\n",
    "    'Austroasiatic, Mundaic, North Munda': 'Austroasiatic',\n",
    "    'Austroasiatic, Mundaic, Mundaric, Ho-Mundari':'Austroasiatic',\n",
    "    'Austroasiatic, Mundaic, North Munda, Mundaric':'Austroasiatic',\n",
    "    'Austroasiatic, Mundaic, North Munda, Kherwarian':'Austroasiatic',\n",
    "    'Indo-European, Indo-Iranian, Indo-Aryan, Bihari, Western Magadhan, Bhojpuric':'Indo-European',\n",
    "    'Indo-European, Indo-Iranian, Indo-Aryan, Gujarati-Rajasthani':'Indo-European',\n",
    "    'Indo-European, Indo-Iranian, Indo-Aryan, Gujarati-Rajasthani, Gujaratic':'Indo-European',\n",
    "    'Indo-European, Indo-Iranian, Indo-Aryan, Subcontinental Central Indo-Aryan':'Indo-European',\n",
    "    'Indo-European, Indo-Iranian, Indo-Aryan, Rajasthani':'Indo-European',\n",
    "    'Dravidian, Central Dravidian, Kolami-Naiki':'Dravidian',\n",
    "    'Indo-European, Indo-Iranian, Indo-Aryan, Marathic':'Indo-European',\n",
    "    'Dravidian, South Dravidian, Tamil-Kannada, Tamil-Malayalam, Tamiloid':'Dravidian',\n",
    "    'Dravidian, South Dravidian, Teluguic':'Dravidian',\n",
    "    'Dravidian, South Dravidian, Gondi':'Dravidian',\n",
    "    'Dravidian, Parji-Ollari-Gadaba, Ollari-Gadaba':'Dravidian',\n",
    "    'Austroasiatic, Mundaic, Sora-Juray-Gorum':'Austroasiatic',\n",
    "    'Dravidian, South Dravidian, Konda-Kui':'Dravidian',\n",
    "    'Austroasiatic, Mundaic, South Munda, Gutob-Remo':'Austroasiatic',\n",
    "    'Indo-European, Indo-Iranian, Indo-Aryan, Oriya-Gauda-Kamrupa, Macro-Oriya':'Indo-European',\n",
    "    'Indo-European, Indo-Iranian, Indo-Aryan, Indo-Aryan Eastern Zone':'Indo-European',\n",
    "    'Indo-European, Italic, Latinic, Romance, Western Romance, Galician Romance, Macro-Portuguese':'Indo-European',\n",
    "    'Dravidian, South Dravidian, Tamil-Kannada, Tamil-Malayalam, Malayamoid':'Dravidian',\n",
    "    'Dravidian, South Dravidian, Tamil-Kannada, Tamil-Toda':'Dravidian',\n",
    "}"
   ]
  },
  {
   "cell_type": "code",
   "execution_count": 48,
   "metadata": {},
   "outputs": [],
   "source": [
    "north_india = pd.read_csv('./data/north-india.csv')\n",
    "south_india = pd.read_csv('./data/south-india.csv')\n",
    "metadata = pd.read_csv('./data/metadata.csv')\n",
    "with open('./output/output.json') as json_file:\n",
    "    codebook = json.load(json_file)"
   ]
  },
  {
   "cell_type": "code",
   "execution_count": 49,
   "metadata": {},
   "outputs": [
    {
     "name": "stdout",
     "output_type": "stream",
     "text": [
      "Total number of tracks is 208\n"
     ]
    }
   ],
   "source": [
    "print(\"Total number of tracks is\",len(north_india)+len(south_india))"
   ]
  },
  {
   "cell_type": "markdown",
   "metadata": {},
   "source": [
    "## Draw from Google Sheets"
   ]
  },
  {
   "cell_type": "code",
   "execution_count": 50,
   "metadata": {},
   "outputs": [],
   "source": [
    "from __future__ import print_function\n",
    "import pickle\n",
    "import os.path\n",
    "from googleapiclient.discovery import build\n",
    "from google_auth_oauthlib.flow import InstalledAppFlow\n",
    "from google.auth.transport.requests import Request\n",
    "\n",
    "SCOPES = ['https://www.googleapis.com/auth/spreadsheets.readonly']\n",
    "\n",
    "# Reference: https://developers.google.com/sheets/api/quickstart/python\n",
    "def read_google_sheets(SPREADSHEET_ID, RANGE_NAME, HEADER_RANGE):\n",
    "    creds = None\n",
    "    # autogenerated\n",
    "    if os.path.exists('token.pickle'):\n",
    "        with open('token.pickle', 'rb') as token:\n",
    "            creds = pickle.load(token)\n",
    "    if not creds or not creds.valid:\n",
    "        if creds and creds.expired and creds.refresh_token:\n",
    "            creds.refresh(Request())\n",
    "        else:\n",
    "            flow = InstalledAppFlow.from_client_secrets_file(\n",
    "                'credentials.json', SCOPES)\n",
    "            creds = flow.run_local_server(port=0)\n",
    "        with open('token.pickle', 'wb') as token:\n",
    "            pickle.dump(creds, token)\n",
    "\n",
    "    service = build('sheets', 'v4', credentials=creds)\n",
    "\n",
    "    sheet = service.spreadsheets()\n",
    "    result = sheet.values().get(spreadsheetId=SPREADSHEET_ID,\n",
    "                                range=RANGE_NAME).execute()\n",
    "    \n",
    "    header = sheet.values().get(spreadsheetId=SPREADSHEET_ID,\n",
    "                               range=HEADER_RANGE).execute()\n",
    "    \n",
    "    header_values = header.get('values', [])\n",
    "    values = result.get('values', [])\n",
    "    \n",
    "    return values, header_values\n",
    "\n",
    "SPREADSHEET_ID = '1AjynK9mMQTw58B_B8b_ZIip3fyUm-aoV7Pp21HziBb0'\n",
    "RANGE_NAME = 'canto_codings!A2:AT'\n",
    "HEADER_RANGE = 'canto_codings!A1:AT1'\n",
    "\n",
    "data, header = read_google_sheets(SPREADSHEET_ID, RANGE_NAME, HEADER_RANGE)\n",
    "\n",
    "canto_codings = pd.DataFrame(data, columns = header[0])"
   ]
  },
  {
   "cell_type": "markdown",
   "metadata": {},
   "source": [
    "## Utility Functions"
   ]
  },
  {
   "cell_type": "code",
   "execution_count": 51,
   "metadata": {},
   "outputs": [],
   "source": [
    "def find_canto_features(canto_coding_id):\n",
    "    for i,row in canto_codings.iterrows():\n",
    "        if(str(canto_coding_id) == row['song_id']):\n",
    "            return row"
   ]
  },
  {
   "cell_type": "code",
   "execution_count": 52,
   "metadata": {},
   "outputs": [],
   "source": [
    "def get_canto_metadata(canto_coding_id):\n",
    "    for i, row in metadata.iterrows():\n",
    "        if(str(canto_coding_id) == row['C-id']):\n",
    "            return row"
   ]
  },
  {
   "cell_type": "code",
   "execution_count": 53,
   "metadata": {},
   "outputs": [],
   "source": [
    "def get_display_code(line, binary_code):\n",
    "    line = codebook['line_'+str(line)]\n",
    "    for encoding in line:\n",
    "        if encoding['code'] == str(binary_code):\n",
    "            return encoding['display_code']"
   ]
  },
  {
   "cell_type": "code",
   "execution_count": 54,
   "metadata": {},
   "outputs": [],
   "source": [
    "def get_language_family(culture):\n",
    "    indian_metadata = classfication_metadata[classfication_metadata['Culture']==culture]\n",
    "    try:\n",
    "        language = indian_metadata['Lang_Family'].values[0]\n",
    "        people = indian_metadata['People'].values[0]\n",
    "        if \"(Ethnic Peoples)\" in people:\n",
    "            people = \"Tribal\"\n",
    "        else:\n",
    "            people = \"Non-Tribal\"\n",
    "    except IndexError as e:\n",
    "        return \"Dravidian\", \"Tribal\"\n",
    "    return language_map[language], people"
   ]
  },
  {
   "cell_type": "markdown",
   "metadata": {},
   "source": [
    "# Prepare Output Data Structure"
   ]
  },
  {
   "cell_type": "code",
   "execution_count": 55,
   "metadata": {},
   "outputs": [],
   "source": [
    "columns = [\"canto_coding_id\", \"soc_id\", \"region\", \"division\",\"subregion\", \"area_kingdom\", \"culture\", \"language\", \"people\",\"song\",\"lat\", \"lng\"]\n",
    "\n",
    "for i in range(37):\n",
    "    columns.append(\"line_\"+str(i+1))\n",
    "    \n",
    "north_india_full = pd.DataFrame(columns=columns)\n",
    "south_india_full = pd.DataFrame(columns=columns)"
   ]
  },
  {
   "cell_type": "markdown",
   "metadata": {},
   "source": [
    "# Connect Everything"
   ]
  },
  {
   "cell_type": "code",
   "execution_count": 71,
   "metadata": {},
   "outputs": [],
   "source": [
    "def main(input_matrix, output_matrix):\n",
    "    for i, row in input_matrix.iterrows():\n",
    "        # metadata\n",
    "        canto_coding_id = row['canto_coding_id']\n",
    "        culture = row['Culture']\n",
    "        soc_id = row['C_cid']\n",
    "        meta = get_canto_metadata(int(canto_coding_id))\n",
    "        lat = meta['Local_lat']\n",
    "        lng = meta['Local_long']\n",
    "        region = meta['Region']\n",
    "        division = meta['Division']\n",
    "        subregion = meta['Subregion']\n",
    "        area = meta['Area/Kingdom']\n",
    "        song = meta['Song']\n",
    "        language,people = get_language_family(culture)\n",
    "        canto = find_canto_features(canto_coding_id)\n",
    "        \n",
    "        canto_data = []\n",
    "        for i in range(37):\n",
    "            canto_data.append(get_display_code(i+1, canto[\"cv_\"+str(i+1)]))\n",
    "        new_row = pd.DataFrame([[\n",
    "            canto_coding_id,\n",
    "            soc_id,\n",
    "            region,\n",
    "            division,\n",
    "            subregion,\n",
    "            area,\n",
    "            culture,\n",
    "            language,\n",
    "            people,\n",
    "            song,\n",
    "            lat,\n",
    "            lng,\n",
    "            canto_data[0],\n",
    "            canto_data[1],\n",
    "            canto_data[2],\n",
    "            canto_data[3],\n",
    "            canto_data[4],\n",
    "            canto_data[5],\n",
    "            canto_data[6],\n",
    "            canto_data[7],\n",
    "            canto_data[8],\n",
    "            canto_data[9],\n",
    "            canto_data[10],\n",
    "            canto_data[11],\n",
    "            canto_data[12],\n",
    "            canto_data[13],\n",
    "            canto_data[14],\n",
    "            canto_data[15],\n",
    "            canto_data[16],\n",
    "            canto_data[17],\n",
    "            canto_data[18],\n",
    "            canto_data[19],\n",
    "            canto_data[20],\n",
    "            canto_data[21],\n",
    "            canto_data[22],\n",
    "            canto_data[23],\n",
    "            canto_data[24],\n",
    "            canto_data[25],\n",
    "            canto_data[26],\n",
    "            canto_data[27],\n",
    "            canto_data[28],\n",
    "            canto_data[29],\n",
    "            canto_data[30],\n",
    "            canto_data[31],\n",
    "            canto_data[32],\n",
    "            canto_data[33],\n",
    "            canto_data[34],\n",
    "            canto_data[35],\n",
    "            canto_data[36],\n",
    "        ]], columns = columns)\n",
    "        output_matrix = output_matrix.append(new_row)\n",
    "    return output_matrix"
   ]
  },
  {
   "cell_type": "markdown",
   "metadata": {},
   "source": [
    "## Run data conversion. This will take a while"
   ]
  },
  {
   "cell_type": "code",
   "execution_count": 61,
   "metadata": {},
   "outputs": [],
   "source": [
    "north_india_full = main(north_india, north_india_full)"
   ]
  },
  {
   "cell_type": "code",
   "execution_count": null,
   "metadata": {},
   "outputs": [],
   "source": [
    "south_india_full = main(south_india, south_india_full)"
   ]
  },
  {
   "cell_type": "code",
   "execution_count": 74,
   "metadata": {},
   "outputs": [
    {
     "ename": "NameError",
     "evalue": "name 'canto_coding_id' is not defined",
     "output_type": "error",
     "traceback": [
      "\u001b[0;31m---------------------------------------------------------------------------\u001b[0m",
      "\u001b[0;31mNameError\u001b[0m                                 Traceback (most recent call last)",
      "\u001b[0;32m<ipython-input-74-8fbcd7702909>\u001b[0m in \u001b[0;36m<module>\u001b[0;34m\u001b[0m\n\u001b[0;32m----> 1\u001b[0;31m \u001b[0mcanto_coding_id\u001b[0m\u001b[0;34m\u001b[0m\u001b[0;34m\u001b[0m\u001b[0m\n\u001b[0m",
      "\u001b[0;31mNameError\u001b[0m: name 'canto_coding_id' is not defined"
     ]
    }
   ],
   "source": [
    "canto_coding_id"
   ]
  },
  {
   "cell_type": "markdown",
   "metadata": {},
   "source": [
    "## Write data to disk"
   ]
  },
  {
   "cell_type": "code",
   "execution_count": 63,
   "metadata": {},
   "outputs": [],
   "source": [
    "north_india_full.to_csv('./data/north_india_full.csv', index=False)\n",
    "south_india_full.to_csv('./data/south_india_full.csv', index=False)"
   ]
  },
  {
   "cell_type": "code",
   "execution_count": 69,
   "metadata": {},
   "outputs": [
    {
     "data": {
      "text/html": [
       "<div>\n",
       "<style scoped>\n",
       "    .dataframe tbody tr th:only-of-type {\n",
       "        vertical-align: middle;\n",
       "    }\n",
       "\n",
       "    .dataframe tbody tr th {\n",
       "        vertical-align: top;\n",
       "    }\n",
       "\n",
       "    .dataframe thead th {\n",
       "        text-align: right;\n",
       "    }\n",
       "</style>\n",
       "<table border=\"1\" class=\"dataframe\">\n",
       "  <thead>\n",
       "    <tr style=\"text-align: right;\">\n",
       "      <th></th>\n",
       "      <th>Unnamed: 0</th>\n",
       "      <th>Archival_source#</th>\n",
       "      <th>Area/Kingdom</th>\n",
       "      <th>Audio_file</th>\n",
       "      <th>Audio_notes</th>\n",
       "      <th>canto_coding_id</th>\n",
       "      <th>C_cid</th>\n",
       "      <th>Classification_notes</th>\n",
       "      <th>Culture</th>\n",
       "      <th>Culture_loc</th>\n",
       "      <th>...</th>\n",
       "      <th>Publisher</th>\n",
       "      <th>Recorded_by</th>\n",
       "      <th>Region</th>\n",
       "      <th>Repository</th>\n",
       "      <th>Song</th>\n",
       "      <th>Song_notes</th>\n",
       "      <th>Source Tag</th>\n",
       "      <th>Sources</th>\n",
       "      <th>Subregion</th>\n",
       "      <th>Year</th>\n",
       "    </tr>\n",
       "  </thead>\n",
       "  <tbody>\n",
       "    <tr>\n",
       "      <th>0</th>\n",
       "      <td>4694</td>\n",
       "      <td>T1790.3</td>\n",
       "      <td>Andhra Pradesh/ Madhya Pradesh/ Maharashtra/ T...</td>\n",
       "      <td>T5416R30</td>\n",
       "      <td>NaN</td>\n",
       "      <td>3851</td>\n",
       "      <td>11617.0</td>\n",
       "      <td>NaN</td>\n",
       "      <td>Banjara</td>\n",
       "      <td>Marathwada Area, India</td>\n",
       "      <td>...</td>\n",
       "      <td>All India Radio</td>\n",
       "      <td>All India Radio</td>\n",
       "      <td>South Asia</td>\n",
       "      <td>Sound and Central Archives of All India Radio,...</td>\n",
       "      <td>Sewa Bhaya, Sewa Bhaya Seva Kare Re</td>\n",
       "      <td>A harvest song in praise of Sewa Bhaya</td>\n",
       "      <td>@AIR1948-50SewaBhayaSewaBhayaSevaKareRe</td>\n",
       "      <td>NaN</td>\n",
       "      <td>C India/ Central Tribal Area</td>\n",
       "      <td>1948-1950</td>\n",
       "    </tr>\n",
       "    <tr>\n",
       "      <th>1</th>\n",
       "      <td>4719</td>\n",
       "      <td>T1786.B8</td>\n",
       "      <td>Chhattisgarh/ Madhya Pradesh/ Maharashtra/ Tel...</td>\n",
       "      <td>T5419R21m</td>\n",
       "      <td>Poor audio, hum</td>\n",
       "      <td>3844</td>\n",
       "      <td>18778.0</td>\n",
       "      <td>NaN</td>\n",
       "      <td>Kolam</td>\n",
       "      <td>Waghapur, Andhra Pradesh, India</td>\n",
       "      <td>...</td>\n",
       "      <td>Previously Unpublished</td>\n",
       "      <td>Dept. of Anthropology Government of India</td>\n",
       "      <td>South Asia</td>\n",
       "      <td>Copy in Alan Lomax Collection, American Folkli...</td>\n",
       "      <td>Warrenga</td>\n",
       "      <td>NaN</td>\n",
       "      <td>@ANSI1953Warrenga</td>\n",
       "      <td>NaN</td>\n",
       "      <td>C India/ Central Tribal Area</td>\n",
       "      <td>1953</td>\n",
       "    </tr>\n",
       "    <tr>\n",
       "      <th>2</th>\n",
       "      <td>4720</td>\n",
       "      <td>T1786.B7</td>\n",
       "      <td>Chhattisgarh/ Madhya Pradesh/ Maharashtra/ Tel...</td>\n",
       "      <td>T5419R20m</td>\n",
       "      <td>Poor audio, hum</td>\n",
       "      <td>3845</td>\n",
       "      <td>18778.0</td>\n",
       "      <td>NaN</td>\n",
       "      <td>Kolam</td>\n",
       "      <td>Waghapur, Andhra Pradesh, India</td>\n",
       "      <td>...</td>\n",
       "      <td>Previously Unpublished</td>\n",
       "      <td>Dept. of Anthropology Government of India</td>\n",
       "      <td>South Asia</td>\n",
       "      <td>Copy in Alan Lomax Collection, American Folkli...</td>\n",
       "      <td>Nare Na</td>\n",
       "      <td>Sung by men folk on summer nights</td>\n",
       "      <td>@ANSI1953NareNa</td>\n",
       "      <td>NaN</td>\n",
       "      <td>C India/ Central Tribal Area</td>\n",
       "      <td>1953</td>\n",
       "    </tr>\n",
       "    <tr>\n",
       "      <th>3</th>\n",
       "      <td>4721</td>\n",
       "      <td>T1786.B6</td>\n",
       "      <td>Chhattisgarh/ Madhya Pradesh/ Maharashtra/ Tel...</td>\n",
       "      <td>T5419R19m</td>\n",
       "      <td>Poor audio, hum</td>\n",
       "      <td>3846</td>\n",
       "      <td>18778.0</td>\n",
       "      <td>NaN</td>\n",
       "      <td>Kolam</td>\n",
       "      <td>Waghapur, Andhra Pradesh, India</td>\n",
       "      <td>...</td>\n",
       "      <td>Previously Unpublished</td>\n",
       "      <td>Dept. of Anthropology Government of India</td>\n",
       "      <td>South Asia</td>\n",
       "      <td>Copy in Alan Lomax Collection, American Folkli...</td>\n",
       "      <td>Devotional Song</td>\n",
       "      <td>NaN</td>\n",
       "      <td>@ANSI1953DevotionalSong_1</td>\n",
       "      <td>NaN</td>\n",
       "      <td>C India/ Central Tribal Area</td>\n",
       "      <td>1953</td>\n",
       "    </tr>\n",
       "    <tr>\n",
       "      <th>4</th>\n",
       "      <td>4743</td>\n",
       "      <td>T1782.1</td>\n",
       "      <td>Maharashtra/ Telangana</td>\n",
       "      <td>T5417R40</td>\n",
       "      <td>NaN</td>\n",
       "      <td>3762</td>\n",
       "      <td>10594.0</td>\n",
       "      <td>NaN</td>\n",
       "      <td>Andh</td>\n",
       "      <td>Korat, Central India</td>\n",
       "      <td>...</td>\n",
       "      <td>Previously Unpublished</td>\n",
       "      <td>Department of Anthropology, Government of India</td>\n",
       "      <td>South Asia</td>\n",
       "      <td>Copy in Alan Lomax Collection, American Folkli...</td>\n",
       "      <td>Cradle Song</td>\n",
       "      <td>Cradle song, trio of young girls sing in uniso...</td>\n",
       "      <td>@ANSI1953CradleSong_1</td>\n",
       "      <td>NaN</td>\n",
       "      <td>C India/ Central Tribal Area</td>\n",
       "      <td>1953</td>\n",
       "    </tr>\n",
       "    <tr>\n",
       "      <th>...</th>\n",
       "      <td>...</td>\n",
       "      <td>...</td>\n",
       "      <td>...</td>\n",
       "      <td>...</td>\n",
       "      <td>...</td>\n",
       "      <td>...</td>\n",
       "      <td>...</td>\n",
       "      <td>...</td>\n",
       "      <td>...</td>\n",
       "      <td>...</td>\n",
       "      <td>...</td>\n",
       "      <td>...</td>\n",
       "      <td>...</td>\n",
       "      <td>...</td>\n",
       "      <td>...</td>\n",
       "      <td>...</td>\n",
       "      <td>...</td>\n",
       "      <td>...</td>\n",
       "      <td>...</td>\n",
       "      <td>...</td>\n",
       "      <td>...</td>\n",
       "    </tr>\n",
       "    <tr>\n",
       "      <th>82</th>\n",
       "      <td>4896</td>\n",
       "      <td>T5569.08</td>\n",
       "      <td>Nilgiri Mtns</td>\n",
       "      <td>T5569R08</td>\n",
       "      <td>NaN</td>\n",
       "      <td>4459</td>\n",
       "      <td>27259.0</td>\n",
       "      <td>NaN</td>\n",
       "      <td>Toda</td>\n",
       "      <td>Ooty and Vicinity, The Nilgiris, Tamil Nadu, I...</td>\n",
       "      <td>...</td>\n",
       "      <td>Previously Unpublished</td>\n",
       "      <td>Andrew Kaye</td>\n",
       "      <td>South Asia</td>\n",
       "      <td>Copy in Alan Lomax Collection, American Folkli...</td>\n",
       "      <td>Toda Woman</td>\n",
       "      <td>Female soloist</td>\n",
       "      <td>@ALC1989TodaKaye</td>\n",
       "      <td>Copies made for A. L. by Andrew Kaey</td>\n",
       "      <td>Western Ghats</td>\n",
       "      <td>1989</td>\n",
       "    </tr>\n",
       "    <tr>\n",
       "      <th>83</th>\n",
       "      <td>4897</td>\n",
       "      <td>T5569.10</td>\n",
       "      <td>Nilgiri Mtns</td>\n",
       "      <td>T5569R10m</td>\n",
       "      <td>NaN</td>\n",
       "      <td>4460</td>\n",
       "      <td>27259.0</td>\n",
       "      <td>NaN</td>\n",
       "      <td>Toda</td>\n",
       "      <td>Toror, Near Glen Morgan, The Nilgiris, Tamil N...</td>\n",
       "      <td>...</td>\n",
       "      <td>Previously Unpublished</td>\n",
       "      <td>Andrew Kaye</td>\n",
       "      <td>South Asia</td>\n",
       "      <td>Copy in Alan Lomax Collection, American Folkli...</td>\n",
       "      <td>Wedding Song</td>\n",
       "      <td>Wedding song</td>\n",
       "      <td>@ALC1989TodaKaye</td>\n",
       "      <td>Copies made for A. L. by Andrew Kaey</td>\n",
       "      <td>Western Ghats</td>\n",
       "      <td>1989</td>\n",
       "    </tr>\n",
       "    <tr>\n",
       "      <th>84</th>\n",
       "      <td>4898</td>\n",
       "      <td>T5569.13</td>\n",
       "      <td>Nilgiri Mtns</td>\n",
       "      <td>T5569R13</td>\n",
       "      <td>NaN</td>\n",
       "      <td>4461</td>\n",
       "      <td>27259.0</td>\n",
       "      <td>NaN</td>\n",
       "      <td>Toda</td>\n",
       "      <td>Toror, Near Glen Morgan, The Nilgiris, Tamil N...</td>\n",
       "      <td>...</td>\n",
       "      <td>Previously Unpublished</td>\n",
       "      <td>Andrew Kaye</td>\n",
       "      <td>South Asia</td>\n",
       "      <td>Copy in Alan Lomax Collection, American Folkli...</td>\n",
       "      <td>Farewell Song After Wedding</td>\n",
       "      <td>Farewell song</td>\n",
       "      <td>@ALC1989TodaKaye</td>\n",
       "      <td>Copies made for A. L. by Andrew Kaey</td>\n",
       "      <td>Western Ghats</td>\n",
       "      <td>1989</td>\n",
       "    </tr>\n",
       "    <tr>\n",
       "      <th>85</th>\n",
       "      <td>4899</td>\n",
       "      <td>T5569.15</td>\n",
       "      <td>Nilgiri Mtns</td>\n",
       "      <td>T5569R15</td>\n",
       "      <td>NaN</td>\n",
       "      <td>4462</td>\n",
       "      <td>27259.0</td>\n",
       "      <td>NaN</td>\n",
       "      <td>Toda</td>\n",
       "      <td>Toror, Near Glen Morgan, The Nilgiris, Tamil N...</td>\n",
       "      <td>...</td>\n",
       "      <td>Previously Unpublished</td>\n",
       "      <td>Andrew Kaye</td>\n",
       "      <td>South Asia</td>\n",
       "      <td>Copy in Alan Lomax Collection, American Folkli...</td>\n",
       "      <td>Post Wedding Circle Dance</td>\n",
       "      <td>Men's circle dance song</td>\n",
       "      <td>@ALC1989TodaKaye</td>\n",
       "      <td>NaN</td>\n",
       "      <td>Western Ghats</td>\n",
       "      <td>1989</td>\n",
       "    </tr>\n",
       "    <tr>\n",
       "      <th>86</th>\n",
       "      <td>4900</td>\n",
       "      <td>T5569.16C</td>\n",
       "      <td>Nilgiri Mtns</td>\n",
       "      <td>T5569R16</td>\n",
       "      <td>NaN</td>\n",
       "      <td>4463</td>\n",
       "      <td>27259.0</td>\n",
       "      <td>NaN</td>\n",
       "      <td>Toda</td>\n",
       "      <td>Ooty and Vicinity, The Nilgiris, Tamil Nadu, I...</td>\n",
       "      <td>...</td>\n",
       "      <td>Previously Unpublished</td>\n",
       "      <td>Andrew Kaye</td>\n",
       "      <td>South Asia</td>\n",
       "      <td>Copy in Alan Lomax Collection, American Folkli...</td>\n",
       "      <td>Nug Orschtet</td>\n",
       "      <td>Q&amp;A between recorder and performer, a male sol...</td>\n",
       "      <td>@ALC1989TodaKaye</td>\n",
       "      <td>NaN</td>\n",
       "      <td>Western Ghats</td>\n",
       "      <td>1989</td>\n",
       "    </tr>\n",
       "  </tbody>\n",
       "</table>\n",
       "<p>87 rows × 32 columns</p>\n",
       "</div>"
      ],
      "text/plain": [
       "    Unnamed: 0 Archival_source#  \\\n",
       "0         4694          T1790.3   \n",
       "1         4719         T1786.B8   \n",
       "2         4720         T1786.B7   \n",
       "3         4721         T1786.B6   \n",
       "4         4743          T1782.1   \n",
       "..         ...              ...   \n",
       "82        4896         T5569.08   \n",
       "83        4897         T5569.10   \n",
       "84        4898         T5569.13   \n",
       "85        4899         T5569.15   \n",
       "86        4900        T5569.16C   \n",
       "\n",
       "                                         Area/Kingdom Audio_file  \\\n",
       "0   Andhra Pradesh/ Madhya Pradesh/ Maharashtra/ T...   T5416R30   \n",
       "1   Chhattisgarh/ Madhya Pradesh/ Maharashtra/ Tel...  T5419R21m   \n",
       "2   Chhattisgarh/ Madhya Pradesh/ Maharashtra/ Tel...  T5419R20m   \n",
       "3   Chhattisgarh/ Madhya Pradesh/ Maharashtra/ Tel...  T5419R19m   \n",
       "4                              Maharashtra/ Telangana   T5417R40   \n",
       "..                                                ...        ...   \n",
       "82                                       Nilgiri Mtns   T5569R08   \n",
       "83                                       Nilgiri Mtns  T5569R10m   \n",
       "84                                       Nilgiri Mtns   T5569R13   \n",
       "85                                       Nilgiri Mtns   T5569R15   \n",
       "86                                       Nilgiri Mtns   T5569R16   \n",
       "\n",
       "        Audio_notes  canto_coding_id    C_cid Classification_notes  Culture  \\\n",
       "0               NaN             3851  11617.0                  NaN  Banjara   \n",
       "1   Poor audio, hum             3844  18778.0                  NaN    Kolam   \n",
       "2   Poor audio, hum             3845  18778.0                  NaN    Kolam   \n",
       "3   Poor audio, hum             3846  18778.0                  NaN    Kolam   \n",
       "4               NaN             3762  10594.0                  NaN     Andh   \n",
       "..              ...              ...      ...                  ...      ...   \n",
       "82              NaN             4459  27259.0                  NaN     Toda   \n",
       "83              NaN             4460  27259.0                  NaN     Toda   \n",
       "84              NaN             4461  27259.0                  NaN     Toda   \n",
       "85              NaN             4462  27259.0                  NaN     Toda   \n",
       "86              NaN             4463  27259.0                  NaN     Toda   \n",
       "\n",
       "                                          Culture_loc  ...  \\\n",
       "0                              Marathwada Area, India  ...   \n",
       "1                     Waghapur, Andhra Pradesh, India  ...   \n",
       "2                     Waghapur, Andhra Pradesh, India  ...   \n",
       "3                     Waghapur, Andhra Pradesh, India  ...   \n",
       "4                                Korat, Central India  ...   \n",
       "..                                                ...  ...   \n",
       "82  Ooty and Vicinity, The Nilgiris, Tamil Nadu, I...  ...   \n",
       "83  Toror, Near Glen Morgan, The Nilgiris, Tamil N...  ...   \n",
       "84  Toror, Near Glen Morgan, The Nilgiris, Tamil N...  ...   \n",
       "85  Toror, Near Glen Morgan, The Nilgiris, Tamil N...  ...   \n",
       "86  Ooty and Vicinity, The Nilgiris, Tamil Nadu, I...  ...   \n",
       "\n",
       "                 Publisher                                      Recorded_by  \\\n",
       "0          All India Radio                                  All India Radio   \n",
       "1   Previously Unpublished        Dept. of Anthropology Government of India   \n",
       "2   Previously Unpublished        Dept. of Anthropology Government of India   \n",
       "3   Previously Unpublished        Dept. of Anthropology Government of India   \n",
       "4   Previously Unpublished  Department of Anthropology, Government of India   \n",
       "..                     ...                                              ...   \n",
       "82  Previously Unpublished                                      Andrew Kaye   \n",
       "83  Previously Unpublished                                      Andrew Kaye   \n",
       "84  Previously Unpublished                                      Andrew Kaye   \n",
       "85  Previously Unpublished                                      Andrew Kaye   \n",
       "86  Previously Unpublished                                      Andrew Kaye   \n",
       "\n",
       "        Region                                         Repository  \\\n",
       "0   South Asia  Sound and Central Archives of All India Radio,...   \n",
       "1   South Asia  Copy in Alan Lomax Collection, American Folkli...   \n",
       "2   South Asia  Copy in Alan Lomax Collection, American Folkli...   \n",
       "3   South Asia  Copy in Alan Lomax Collection, American Folkli...   \n",
       "4   South Asia  Copy in Alan Lomax Collection, American Folkli...   \n",
       "..         ...                                                ...   \n",
       "82  South Asia  Copy in Alan Lomax Collection, American Folkli...   \n",
       "83  South Asia  Copy in Alan Lomax Collection, American Folkli...   \n",
       "84  South Asia  Copy in Alan Lomax Collection, American Folkli...   \n",
       "85  South Asia  Copy in Alan Lomax Collection, American Folkli...   \n",
       "86  South Asia  Copy in Alan Lomax Collection, American Folkli...   \n",
       "\n",
       "                                   Song  \\\n",
       "0   Sewa Bhaya, Sewa Bhaya Seva Kare Re   \n",
       "1                              Warrenga   \n",
       "2                               Nare Na   \n",
       "3                       Devotional Song   \n",
       "4                           Cradle Song   \n",
       "..                                  ...   \n",
       "82                           Toda Woman   \n",
       "83                         Wedding Song   \n",
       "84          Farewell Song After Wedding   \n",
       "85            Post Wedding Circle Dance   \n",
       "86                         Nug Orschtet   \n",
       "\n",
       "                                           Song_notes  \\\n",
       "0              A harvest song in praise of Sewa Bhaya   \n",
       "1                                                 NaN   \n",
       "2                   Sung by men folk on summer nights   \n",
       "3                                                 NaN   \n",
       "4   Cradle song, trio of young girls sing in uniso...   \n",
       "..                                                ...   \n",
       "82                                     Female soloist   \n",
       "83                                       Wedding song   \n",
       "84                                     Farewell song    \n",
       "85                            Men's circle dance song   \n",
       "86  Q&A between recorder and performer, a male sol...   \n",
       "\n",
       "                                 Source Tag  \\\n",
       "0   @AIR1948-50SewaBhayaSewaBhayaSevaKareRe   \n",
       "1                         @ANSI1953Warrenga   \n",
       "2                           @ANSI1953NareNa   \n",
       "3                 @ANSI1953DevotionalSong_1   \n",
       "4                     @ANSI1953CradleSong_1   \n",
       "..                                      ...   \n",
       "82                         @ALC1989TodaKaye   \n",
       "83                         @ALC1989TodaKaye   \n",
       "84                         @ALC1989TodaKaye   \n",
       "85                         @ALC1989TodaKaye   \n",
       "86                         @ALC1989TodaKaye   \n",
       "\n",
       "                                 Sources                     Subregion  \\\n",
       "0                                    NaN  C India/ Central Tribal Area   \n",
       "1                                    NaN  C India/ Central Tribal Area   \n",
       "2                                    NaN  C India/ Central Tribal Area   \n",
       "3                                    NaN  C India/ Central Tribal Area   \n",
       "4                                    NaN  C India/ Central Tribal Area   \n",
       "..                                   ...                           ...   \n",
       "82  Copies made for A. L. by Andrew Kaey                 Western Ghats   \n",
       "83  Copies made for A. L. by Andrew Kaey                 Western Ghats   \n",
       "84  Copies made for A. L. by Andrew Kaey                 Western Ghats   \n",
       "85                                   NaN                 Western Ghats   \n",
       "86                                   NaN                 Western Ghats   \n",
       "\n",
       "         Year  \n",
       "0   1948-1950  \n",
       "1        1953  \n",
       "2        1953  \n",
       "3        1953  \n",
       "4        1953  \n",
       "..        ...  \n",
       "82       1989  \n",
       "83       1989  \n",
       "84       1989  \n",
       "85       1989  \n",
       "86       1989  \n",
       "\n",
       "[87 rows x 32 columns]"
      ]
     },
     "execution_count": 69,
     "metadata": {},
     "output_type": "execute_result"
    }
   ],
   "source": [
    "south_india"
   ]
  },
  {
   "cell_type": "code",
   "execution_count": 64,
   "metadata": {},
   "outputs": [],
   "source": [
    "region = []\n",
    "for i in range(len(north_india_full)):\n",
    "    region.append(\"North\")\n",
    "for i in range(len(south_india_full)):\n",
    "    region.append(\"South\")\n",
    "\n",
    "frames = [north_india_full, south_india_full]\n",
    "all_india_full = pd.concat(frames)\n",
    "all_india_full[\"region\"] = region\n",
    "all_india_full = all_india_full[all_india_full[\"culture\"]!=\"Portuguese Goa\"]\n",
    "all_india_full.to_csv('./data/all_india_full.csv', index=False)"
   ]
  },
  {
   "cell_type": "code",
   "execution_count": 65,
   "metadata": {},
   "outputs": [
    {
     "data": {
      "text/plain": [
       "Dravidian        48\n",
       "Indo-European    38\n",
       "Austroasiatic    35\n",
       "Name: language, dtype: int64"
      ]
     },
     "execution_count": 65,
     "metadata": {},
     "output_type": "execute_result"
    }
   ],
   "source": [
    "all_india_full = pd.read_csv('./data/all_india_full.csv')\n",
    "all_india_full['language'].value_counts()"
   ]
  },
  {
   "cell_type": "code",
   "execution_count": 19,
   "metadata": {},
   "outputs": [
    {
     "data": {
      "text/plain": [
       "Tribal        150\n",
       "Non-Tribal     57\n",
       "Name: people, dtype: int64"
      ]
     },
     "execution_count": 19,
     "metadata": {},
     "output_type": "execute_result"
    }
   ],
   "source": [
    "all_india_full['people'].value_counts()"
   ]
  },
  {
   "cell_type": "code",
   "execution_count": 20,
   "metadata": {},
   "outputs": [
    {
     "data": {
      "text/plain": [
       "47"
      ]
     },
     "execution_count": 20,
     "metadata": {},
     "output_type": "execute_result"
    }
   ],
   "source": [
    "c = 0\n",
    "for i, row in all_india_full.iterrows():\n",
    "    if row['language'] != 'Austroasiatic' and row['people']=='Non-Tribal':\n",
    "        c+=1\n",
    "c"
   ]
  },
  {
   "cell_type": "markdown",
   "metadata": {},
   "source": [
    "## Important: Change the file's content so that Tamil People are coded as dravidians!"
   ]
  },
  {
   "cell_type": "markdown",
   "metadata": {},
   "source": [
    "# Preparing Data for AMOVA for Indian Subset Sample in R\n",
    "\n",
    "## Removing Cultures With Only One Sample"
   ]
  },
  {
   "cell_type": "code",
   "execution_count": 21,
   "metadata": {},
   "outputs": [],
   "source": [
    "from scipy.spatial import distance_matrix\n",
    "import math\n",
    "import numpy as np"
   ]
  },
  {
   "cell_type": "markdown",
   "metadata": {},
   "source": [
    "## Samples Dataframe"
   ]
  },
  {
   "cell_type": "code",
   "execution_count": 22,
   "metadata": {},
   "outputs": [],
   "source": [
    "all_india_full = pd.read_csv('./data/all_india_full.csv')"
   ]
  },
  {
   "cell_type": "code",
   "execution_count": 23,
   "metadata": {},
   "outputs": [
    {
     "name": "stderr",
     "output_type": "stream",
     "text": [
      "<ipython-input-23-0518c67386b4>:2: SettingWithCopyWarning: \n",
      "A value is trying to be set on a copy of a slice from a DataFrame\n",
      "\n",
      "See the caveats in the documentation: https://pandas.pydata.org/pandas-docs/stable/user_guide/indexing.html#returning-a-view-versus-a-copy\n",
      "  all_india_full['cv_1'][196] = 2\n"
     ]
    }
   ],
   "source": [
    "# This value was missing. \n",
    "all_india_full['cv_1'][196] = 2"
   ]
  },
  {
   "cell_type": "code",
   "execution_count": 24,
   "metadata": {},
   "outputs": [],
   "source": [
    "all_india_full['Number of Samples'] = all_india_full.groupby('culture')['culture'].transform('count')\n",
    "no_singles = all_india_full[all_india_full['Number of Samples']!=1]\n",
    "singles = all_india_full[all_india_full['Number of Samples']==1]\n",
    "filtered_df = all_india_full[(all_india_full['language']!='Austroasiatic') & (all_india_full['people']!='Tribal')]\n",
    "\n",
    "filtered_df.to_csv('./data/filtered.csv')"
   ]
  },
  {
   "cell_type": "code",
   "execution_count": 25,
   "metadata": {},
   "outputs": [],
   "source": [
    "sample_columns = filtered_df['culture'].unique()\n",
    "sample_columns = np.insert(sample_columns, 0, 'canto_coding_id', axis=0)\n",
    "samples = pd.DataFrame(columns=sample_columns)\n",
    "## fill this up with zeros\n",
    "\n",
    "for i, row in filtered_df.iterrows():\n",
    "    samples.loc[i, row['culture']] = 1\n",
    "    samples.loc[i, 'canto_coding_id'] = row[\"canto_coding_id\"]\n",
    "    \n",
    "samples = samples.fillna(0)\n",
    "samples = samples.reset_index()\n",
    "samples = samples.drop(columns=['index'])\n",
    "\n",
    "samples.to_csv('./data/samples.csv')"
   ]
  },
  {
   "cell_type": "markdown",
   "metadata": {},
   "source": [
    "## Samples for subset of features"
   ]
  },
  {
   "cell_type": "code",
   "execution_count": 28,
   "metadata": {},
   "outputs": [
    {
     "data": {
      "text/plain": [
       "Index(['canto_coding_id', 'region', 'division', 'subregion', 'area_kingdom',\n",
       "       'culture', 'language', 'people', 'song', 'lat', 'lng', 'cv_1', 'cv_2',\n",
       "       'cv_3', 'cv_4', 'cv_5', 'cv_6', 'cv_7', 'cv_8', 'cv_9', 'cv_10',\n",
       "       'cv_11', 'cv_12', 'cv_13', 'cv_14', 'cv_15', 'cv_16', 'cv_17', 'cv_18',\n",
       "       'cv_19', 'cv_20', 'cv_21', 'cv_22', 'cv_23', 'cv_24', 'cv_25', 'cv_26',\n",
       "       'cv_27', 'cv_28', 'cv_29', 'cv_30', 'cv_31', 'cv_32', 'cv_33', 'cv_34',\n",
       "       'cv_35', 'cv_36', 'cv_37', 'Number of Samples'],\n",
       "      dtype='object')"
      ]
     },
     "execution_count": 28,
     "metadata": {},
     "output_type": "execute_result"
    }
   ],
   "source": [
    "# drop<- c('cv_1','cv_5','cv_6','cv_12','cv_22','cv_2','cv_3','cv_8','cv_9','cv_13','cv_14','cv_27')"
   ]
  },
  {
   "cell_type": "markdown",
   "metadata": {},
   "source": [
    "## Structures Dataframe"
   ]
  },
  {
   "cell_type": "code",
   "execution_count": 34,
   "metadata": {},
   "outputs": [],
   "source": [
    "structure_list = []\n",
    "for i in range(len(sample_columns)-1):\n",
    "    structure_list.append(filtered_df[filtered_df['culture']==sample_columns[i+1]]['language'].all())\n",
    "structure = pd.DataFrame(structure_list, columns = ['language'])\n",
    "structure = structure['language'].replace('Indo-European', 'Indo-Aryan')\n",
    "structure.to_csv('./data/structure.csv')"
   ]
  },
  {
   "cell_type": "code",
   "execution_count": 36,
   "metadata": {},
   "outputs": [
    {
     "data": {
      "text/plain": [
       "Index(['canto_coding_id', 'C Indian Folk', 'Uttar Pradesh', 'Benares',\n",
       "       'Rajasthan', 'Saurashtra', 'Banjara', 'Andh', 'Madras', 'Kerala'],\n",
       "      dtype='object')"
      ]
     },
     "execution_count": 36,
     "metadata": {},
     "output_type": "execute_result"
    }
   ],
   "source": [
    "samples.columns"
   ]
  },
  {
   "cell_type": "markdown",
   "metadata": {},
   "source": [
    "# Preparing Data for AMOVA for Indian Full Sample in R\n",
    "\n",
    "## Removing Cultures With Only One Sample"
   ]
  },
  {
   "cell_type": "code",
   "execution_count": 37,
   "metadata": {},
   "outputs": [],
   "source": [
    "all_india_full = pd.read_csv('./data/all_india_full.csv')\n",
    "# This value was missing. \n",
    "all_india_full.loc[196,('cv_1')] = 2\n",
    "all_india_full['Number of Samples'] = all_india_full.groupby('culture')['culture'].transform('count')\n",
    "no_singles = all_india_full[all_india_full['Number of Samples']!=1]\n",
    "no_singles.to_csv('./data/no_singles_full.csv')"
   ]
  },
  {
   "cell_type": "code",
   "execution_count": 38,
   "metadata": {},
   "outputs": [],
   "source": [
    "sample_columns = no_singles['culture'].unique()\n",
    "sample_columns = np.insert(sample_columns, 0, 'canto_coding_id', axis=0)\n",
    "samples = pd.DataFrame(columns=sample_columns)\n",
    "## fill this up with zeros\n",
    "\n",
    "for i, row in no_singles.iterrows():\n",
    "    samples.loc[i, row['culture']] = 1\n",
    "    samples.loc[i, 'canto_coding_id'] = row[\"canto_coding_id\"]\n",
    "    \n",
    "samples = samples.fillna(0)\n",
    "samples = samples.reset_index()\n",
    "samples = samples.drop(columns=['index'])\n",
    "\n",
    "samples.to_csv('./data/samples_full.csv')"
   ]
  },
  {
   "cell_type": "markdown",
   "metadata": {},
   "source": [
    "## Structures Dataframe"
   ]
  },
  {
   "cell_type": "code",
   "execution_count": 39,
   "metadata": {},
   "outputs": [],
   "source": [
    "structure_list = []\n",
    "for i in range(len(sample_columns)-1):\n",
    "    structure_list.append(no_singles[no_singles['culture']==sample_columns[i+1]]['language'].all())\n",
    "structure = pd.DataFrame(structure_list, columns = ['language'])\n",
    "structure = structure['language'].replace('Indo-European', 'Indo-Aryan')\n",
    "structure.to_csv('./data/structure_full.csv')"
   ]
  },
  {
   "cell_type": "code",
   "execution_count": 44,
   "metadata": {},
   "outputs": [
    {
     "data": {
      "text/plain": [
       "Index(['canto_coding_id', 'Dhurwa Gond', 'Dorla', 'Muria Gond', 'Gond',\n",
       "       'Korku', 'Bhumij', 'Kurukh', 'Munda', 'Bhojpuri', 'Uttar Pradesh',\n",
       "       'Benares', 'Rajasthan', 'Kolam', 'Tamil People', 'Madras',\n",
       "       'Andhra Pradesh', 'Koya', 'Gadaba', 'Hill Saora', 'Konda-Dora', 'Bonda',\n",
       "       'Oriya', 'Paroja', 'Kerala', 'Toda'],\n",
       "      dtype='object')"
      ]
     },
     "execution_count": 44,
     "metadata": {},
     "output_type": "execute_result"
    }
   ],
   "source": [
    "samples.columns"
   ]
  },
  {
   "cell_type": "markdown",
   "metadata": {},
   "source": [
    "# Prepare AMOVA Data for Global Sample in R\n",
    "## Remove cultures with Only One Sample"
   ]
  },
  {
   "cell_type": "code",
   "execution_count": 49,
   "metadata": {},
   "outputs": [],
   "source": [
    "canto_codings['Number of Samples'] = canto_codings.groupby('Culture')['Culture'].transform('count')\n",
    "singles = canto_codings[canto_codings['Number of Samples']!=1]\n",
    "singles.to_csv('./data/global_no_singles.csv')"
   ]
  },
  {
   "cell_type": "markdown",
   "metadata": {},
   "source": [
    "## Appending regions to the canto_codings dataframe"
   ]
  },
  {
   "cell_type": "code",
   "execution_count": 50,
   "metadata": {},
   "outputs": [],
   "source": [
    "canto_codings['region'] = metadata['Region']"
   ]
  },
  {
   "cell_type": "markdown",
   "metadata": {},
   "source": [
    "## Samples Dataframe\n",
    "### This will take a while to run"
   ]
  },
  {
   "cell_type": "code",
   "execution_count": 29,
   "metadata": {},
   "outputs": [],
   "source": [
    "sample_columns = singles['Culture'].unique()\n",
    "sample_columns = np.insert(sample_columns, 0, 'canto_coding_id', axis=0)\n",
    "samples = pd.DataFrame(columns=sample_columns)\n",
    "## fill this up with zeros\n",
    "\n",
    "for i, row in singles.iterrows():\n",
    "    samples.loc[i, row['Culture']] = 1\n",
    "    samples.loc[i, 'canto_coding_id'] = row[\"canto_coding_id\"]\n",
    "samples = samples.fillna(0)\n",
    "samples.to_csv('./data/global_samples.csv')"
   ]
  },
  {
   "cell_type": "code",
   "execution_count": 30,
   "metadata": {},
   "outputs": [],
   "source": [
    "## Structures Dataframe"
   ]
  },
  {
   "cell_type": "code",
   "execution_count": 31,
   "metadata": {},
   "outputs": [],
   "source": [
    "structure_list = []\n",
    "for i in range(len(sample_columns)-1):\n",
    "    structure_list.append(canto_codings[canto_codings['Culture']==sample_columns[i+1]]['region'].all())\n",
    "structure = pd.DataFrame(structure_list, columns = ['region'])\n",
    "structure.to_csv('./data/global_structure.csv')"
   ]
  },
  {
   "cell_type": "code",
   "execution_count": 152,
   "metadata": {},
   "outputs": [
    {
     "data": {
      "text/plain": [
       "Indo-European    28\n",
       "Dravidian        19\n",
       "Name: language, dtype: int64"
      ]
     },
     "execution_count": 152,
     "metadata": {},
     "output_type": "execute_result"
    }
   ],
   "source": [
    "filtered_df['language'].value_counts()"
   ]
  }
 ],
 "metadata": {
  "kernelspec": {
   "display_name": "Python 3",
   "language": "python",
   "name": "python3"
  },
  "language_info": {
   "codemirror_mode": {
    "name": "ipython",
    "version": 3
   },
   "file_extension": ".py",
   "mimetype": "text/x-python",
   "name": "python",
   "nbconvert_exporter": "python",
   "pygments_lexer": "ipython3",
   "version": "3.8.9"
  }
 },
 "nbformat": 4,
 "nbformat_minor": 4
}
